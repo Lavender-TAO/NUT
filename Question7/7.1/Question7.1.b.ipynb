{
 "cells": [
  {
   "cell_type": "code",
   "execution_count": 1,
   "metadata": {},
   "outputs": [],
   "source": [
    "import numpy as np"
   ]
  },
  {
   "cell_type": "code",
   "execution_count": 2,
   "metadata": {},
   "outputs": [],
   "source": [
    "#load data from\n",
    "inputC = np.loadtxt('input_coordinates_7_1.txt',skiprows=1)\n",
    "index = np.loadtxt('input_index_7_1.txt',skiprows = 1)\n",
    "#(L1,L2) = (50,57)\n",
    "L1 = 50\n",
    "L2 = 57"
   ]
  },
  {
   "cell_type": "code",
   "execution_count": 3,
   "metadata": {},
   "outputs": [],
   "source": [
    "def co2index(inputC,L1,L2):\n",
    "    I = []\n",
    "    for coordinate in inputC:\n",
    "        x1 = coordinate[0]\n",
    "        x2 = coordinate[1]\n",
    "        i = x1*L1+(L2-x2)\n",
    "        I.append(i)\n",
    "    return I\n"
   ]
  },
  {
   "cell_type": "code",
   "execution_count": 4,
   "metadata": {},
   "outputs": [],
   "source": [
    "def index2co(index,L1):\n",
    "    x1 = []\n",
    "    x2 = []\n",
    "    for i in index:\n",
    "        x1.append(int(i/L1))\n",
    "        x2.append(i%L1)\n",
    "    return x1,x2\n",
    "        \n"
   ]
  },
  {
   "cell_type": "code",
   "execution_count": 5,
   "metadata": {},
   "outputs": [],
   "source": [
    "I = co2index(inputC,L1,L2)\n",
    "np.savetxt('index.txt',I,fmt='%d',header='index')"
   ]
  },
  {
   "cell_type": "code",
   "execution_count": 7,
   "metadata": {},
   "outputs": [],
   "source": [
    "x1,x2 = index2co(index,L1)\n",
    "np.savetxt('coordinate.txt', np.column_stack((x1,x2)),fmt='%d')"
   ]
  }
 ],
 "metadata": {
  "kernelspec": {
   "display_name": "Python 3",
   "language": "python",
   "name": "python3"
  },
  "language_info": {
   "codemirror_mode": {
    "name": "ipython",
    "version": 3
   },
   "file_extension": ".py",
   "mimetype": "text/x-python",
   "name": "python",
   "nbconvert_exporter": "python",
   "pygments_lexer": "ipython3",
   "version": "3.6.12"
  }
 },
 "nbformat": 4,
 "nbformat_minor": 4
}
