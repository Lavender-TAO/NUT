{
 "cells": [
  {
   "cell_type": "code",
   "execution_count": 1,
   "metadata": {},
   "outputs": [
    {
     "name": "stderr",
     "output_type": "stream",
     "text": [
      "Using TensorFlow backend.\n",
      "d:\\anaconda\\envs\\jupyter\\lib\\site-packages\\tensorflow\\python\\framework\\dtypes.py:493: FutureWarning: Passing (type, 1) or '1type' as a synonym of type is deprecated; in a future version of numpy, it will be understood as (type, (1,)) / '(1,)type'.\n",
      "  _np_qint8 = np.dtype([(\"qint8\", np.int8, 1)])\n",
      "d:\\anaconda\\envs\\jupyter\\lib\\site-packages\\tensorflow\\python\\framework\\dtypes.py:494: FutureWarning: Passing (type, 1) or '1type' as a synonym of type is deprecated; in a future version of numpy, it will be understood as (type, (1,)) / '(1,)type'.\n",
      "  _np_quint8 = np.dtype([(\"quint8\", np.uint8, 1)])\n",
      "d:\\anaconda\\envs\\jupyter\\lib\\site-packages\\tensorflow\\python\\framework\\dtypes.py:495: FutureWarning: Passing (type, 1) or '1type' as a synonym of type is deprecated; in a future version of numpy, it will be understood as (type, (1,)) / '(1,)type'.\n",
      "  _np_qint16 = np.dtype([(\"qint16\", np.int16, 1)])\n",
      "d:\\anaconda\\envs\\jupyter\\lib\\site-packages\\tensorflow\\python\\framework\\dtypes.py:496: FutureWarning: Passing (type, 1) or '1type' as a synonym of type is deprecated; in a future version of numpy, it will be understood as (type, (1,)) / '(1,)type'.\n",
      "  _np_quint16 = np.dtype([(\"quint16\", np.uint16, 1)])\n",
      "d:\\anaconda\\envs\\jupyter\\lib\\site-packages\\tensorflow\\python\\framework\\dtypes.py:497: FutureWarning: Passing (type, 1) or '1type' as a synonym of type is deprecated; in a future version of numpy, it will be understood as (type, (1,)) / '(1,)type'.\n",
      "  _np_qint32 = np.dtype([(\"qint32\", np.int32, 1)])\n",
      "d:\\anaconda\\envs\\jupyter\\lib\\site-packages\\tensorflow\\python\\framework\\dtypes.py:502: FutureWarning: Passing (type, 1) or '1type' as a synonym of type is deprecated; in a future version of numpy, it will be understood as (type, (1,)) / '(1,)type'.\n",
      "  np_resource = np.dtype([(\"resource\", np.ubyte, 1)])\n"
     ]
    }
   ],
   "source": [
    "import keras\n",
    "import numpy as np\n",
    "from keras.models import Sequential\n",
    "from keras.layers import Dense, Dropout\n",
    "from keras.optimizers import RMSprop"
   ]
  },
  {
   "cell_type": "code",
   "execution_count": 2,
   "metadata": {},
   "outputs": [],
   "source": [
    "x_train = np.loadtxt('train_data.txt',skiprows=1)\n",
    "y_train = np.loadtxt('train_truth.txt',skiprows=1)\n",
    "\n",
    "x_train = x_train/255\n",
    "y_train=y_train/255"
   ]
  },
  {
   "cell_type": "code",
   "execution_count": 3,
   "metadata": {},
   "outputs": [],
   "source": [
    "# two hidden layers, choose relu as activation, use drouput in case of overfitting, softmax as output\n",
    "#4*4 hidden layer 3 input 1 output\n",
    "model = Sequential()\n",
    "model.add(Dense(units = 4, activation='relu', input_dim = 3))\n",
    "model.add(Dense(units = 4, activation='relu'))\n",
    "model.add(Dense(units = 1, activation='sigmoid'))"
   ]
  },
  {
   "cell_type": "code",
   "execution_count": 4,
   "metadata": {},
   "outputs": [
    {
     "name": "stdout",
     "output_type": "stream",
     "text": [
      "_________________________________________________________________\n",
      "Layer (type)                 Output Shape              Param #   \n",
      "=================================================================\n",
      "dense_1 (Dense)              (None, 4)                 16        \n",
      "_________________________________________________________________\n",
      "dense_2 (Dense)              (None, 4)                 20        \n",
      "_________________________________________________________________\n",
      "dense_3 (Dense)              (None, 1)                 5         \n",
      "=================================================================\n",
      "Total params: 41\n",
      "Trainable params: 41\n",
      "Non-trainable params: 0\n",
      "_________________________________________________________________\n"
     ]
    }
   ],
   "source": [
    "model.summary()\n"
   ]
  },
  {
   "cell_type": "code",
   "execution_count": 5,
   "metadata": {},
   "outputs": [
    {
     "name": "stdout",
     "output_type": "stream",
     "text": [
      "Train on 8000 samples, validate on 2000 samples\n",
      "Epoch 1/10\n",
      "8000/8000 [==============================] - 1s 63us/step - loss: 0.5188 - acc: 0.0000e+00 - val_loss: 0.3163 - val_acc: 0.0000e+00\n",
      "Epoch 2/10\n",
      "8000/8000 [==============================] - 0s 45us/step - loss: 0.1749 - acc: 0.0000e+00 - val_loss: 0.0841 - val_acc: 0.0000e+00\n",
      "Epoch 3/10\n",
      "8000/8000 [==============================] - 0s 41us/step - loss: 0.0528 - acc: 0.0000e+00 - val_loss: 0.0336 - val_acc: 0.0000e+00\n",
      "Epoch 4/10\n",
      "8000/8000 [==============================] - 0s 51us/step - loss: 0.0259 - acc: 0.0000e+00 - val_loss: 0.0207 - val_acc: 0.0000e+00\n",
      "Epoch 5/10\n",
      "8000/8000 [==============================] - 0s 46us/step - loss: 0.0181 - acc: 0.0000e+00 - val_loss: 0.0163 - val_acc: 0.0000e+00\n",
      "Epoch 6/10\n",
      "8000/8000 [==============================] - 0s 43us/step - loss: 0.0152 - acc: 0.0000e+00 - val_loss: 0.0145 - val_acc: 0.0000e+00\n",
      "Epoch 7/10\n",
      "8000/8000 [==============================] - 0s 43us/step - loss: 0.0139 - acc: 0.0000e+00 - val_loss: 0.0137 - val_acc: 0.0000e+00\n",
      "Epoch 8/10\n",
      "8000/8000 [==============================] - 0s 43us/step - loss: 0.0134 - acc: 0.0000e+00 - val_loss: 0.0133 - val_acc: 0.0000e+00\n",
      "Epoch 9/10\n",
      "8000/8000 [==============================] - 0s 46us/step - loss: 0.0131 - acc: 0.0000e+00 - val_loss: 0.0131 - val_acc: 0.0000e+00\n",
      "Epoch 10/10\n",
      "8000/8000 [==============================] - 0s 42us/step - loss: 0.0130 - acc: 0.0000e+00 - val_loss: 0.0130 - val_acc: 0.0000e+00\n"
     ]
    }
   ],
   "source": [
    "#loss and optimizer\n",
    "model.compile(loss='binary_crossentropy',\n",
    "              optimizer='adam',\n",
    "              metrics=['accuracy'])\n",
    "#train\n",
    "history = model.fit(x_train, y_train,\n",
    "                    batch_size=32,\n",
    "                    validation_split=0.2,\n",
    "                    epochs=10)"
   ]
  },
  {
   "cell_type": "code",
   "execution_count": 6,
   "metadata": {},
   "outputs": [
    {
     "name": "stdout",
     "output_type": "stream",
     "text": [
      "[[9.1605312e-07]\n",
      " [3.5339195e-05]\n",
      " [7.7910761e-07]\n",
      " ...\n",
      " [1.3640043e-04]\n",
      " [3.7470527e-05]\n",
      " [1.3378813e-07]]\n"
     ]
    }
   ],
   "source": [
    "x_test = np.loadtxt('test_data.txt',skiprows=1)\n",
    "y_test =  model.predict(x_test,batch_size=32)\n",
    "print(y_test)"
   ]
  },
  {
   "cell_type": "code",
   "execution_count": 7,
   "metadata": {},
   "outputs": [],
   "source": [
    "np.savetxt(\"y_predict.txt\",y_test)"
   ]
  }
 ],
 "metadata": {
  "kernelspec": {
   "display_name": "Python 3",
   "language": "python",
   "name": "python3"
  },
  "language_info": {
   "codemirror_mode": {
    "name": "ipython",
    "version": 3
   },
   "file_extension": ".py",
   "mimetype": "text/x-python",
   "name": "python",
   "nbconvert_exporter": "python",
   "pygments_lexer": "ipython3",
   "version": "3.6.12"
  }
 },
 "nbformat": 4,
 "nbformat_minor": 4
}
